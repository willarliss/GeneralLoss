{
 "cells": [
  {
   "cell_type": "code",
   "execution_count": 1,
   "id": "eff7d8cb",
   "metadata": {},
   "outputs": [],
   "source": [
    "import os\n",
    "from functools import partial\n",
    "\n",
    "import numpy as np\n",
    "from sklearn.pipeline import Pipeline\n",
    "from sklearn.preprocessing import OneHotEncoder\n",
    "from sklearn.preprocessing import StandardScaler\n",
    "from sklearn.model_selection import train_test_split\n",
    "from sklearn.datasets import make_classification\n"
   ]
  },
  {
   "cell_type": "code",
   "execution_count": 2,
   "id": "858346b6",
   "metadata": {},
   "outputs": [
    {
     "data": {
      "text/plain": [
       "True"
      ]
     },
     "execution_count": 2,
     "metadata": {},
     "output_type": "execute_result"
    }
   ],
   "source": [
    "os.chdir('..')\n",
    "os.getcwd().split('/')[-1] == 'GeneralLoss'"
   ]
  },
  {
   "cell_type": "code",
   "execution_count": 3,
   "id": "338274ff",
   "metadata": {},
   "outputs": [],
   "source": [
    "from minimizers import links\n",
    "from minimizers import losses\n",
    "from minimizers.minimize import GeneralLossMinimizer, CustomLossClassifier"
   ]
  },
  {
   "cell_type": "code",
   "execution_count": 4,
   "id": "0d1819af",
   "metadata": {},
   "outputs": [],
   "source": [
    "seed = 0"
   ]
  },
  {
   "cell_type": "code",
   "execution_count": 5,
   "id": "1edfa0d6",
   "metadata": {},
   "outputs": [],
   "source": [
    "X, y = make_classification(\n",
    "    n_classes=3, \n",
    "    n_samples=1000, \n",
    "    n_features=10, \n",
    "    flip_y=0., \n",
    "    n_clusters_per_class=1, \n",
    "    random_state=seed,\n",
    ")\n",
    "X_train, X_test, y_train, y_test = train_test_split(X, y, random_state=seed)\n",
    "del X, y"
   ]
  },
  {
   "cell_type": "markdown",
   "id": "5869f218",
   "metadata": {},
   "source": [
    "---\n",
    "### Cross Entropy"
   ]
  },
  {
   "cell_type": "code",
   "execution_count": 6,
   "id": "221ca2b7",
   "metadata": {},
   "outputs": [
    {
     "name": "stdout",
     "output_type": "stream",
     "text": [
      "Training accuracy: 0.86\n",
      "Testing accuracy: 0.872\n"
     ]
    }
   ],
   "source": [
    "model = Pipeline([\n",
    "    ('sc', StandardScaler()),\n",
    "    ('est', GeneralLossMinimizer(\n",
    "        loss_fn=losses.cce_loss,\n",
    "        link_fn=links.softmax_link,\n",
    "        random_state=seed,\n",
    "    )),\n",
    "])\n",
    "model[-1].set_estimator_type('classifier')\n",
    "model[-1].set_multi_output(True)\n",
    "\n",
    "ohe = OneHotEncoder(sparse=False)\n",
    "ye_train = ohe.fit_transform(y_train.reshape(-1,1))\n",
    "ye_test = ohe.transform(y_test.reshape(-1,1))\n",
    "\n",
    "model.fit(X_train, ye_train)\n",
    "y_hat = model.predict(X_train).argmax(1)\n",
    "print('Training accuracy:', (y_train==y_hat).mean())\n",
    "\n",
    "y_hat = model.predict(X_test).argmax(1)\n",
    "print('Testing accuracy:', (y_test==y_hat).mean())"
   ]
  },
  {
   "cell_type": "code",
   "execution_count": 7,
   "id": "2eda9356",
   "metadata": {},
   "outputs": [
    {
     "name": "stdout",
     "output_type": "stream",
     "text": [
      "Training accuracy: 0.86\n",
      "Testing accuracy: 0.872\n"
     ]
    }
   ],
   "source": [
    "model = Pipeline([\n",
    "    ('sc', StandardScaler()),\n",
    "    ('est', CustomLossClassifier(\n",
    "        loss_fn=losses.cce_loss,\n",
    "        link_fn=links.softmax_link,\n",
    "        random_state=seed,\n",
    "    )),\n",
    "])\n",
    "\n",
    "model.fit(X_train, y_train)\n",
    "y_hat = model.predict(X_train)\n",
    "print('Training accuracy:', (y_train==y_hat).mean())\n",
    "\n",
    "y_hat = model.predict(X_test)\n",
    "print('Testing accuracy:', (y_test==y_hat).mean())"
   ]
  },
  {
   "cell_type": "markdown",
   "id": "8315a936",
   "metadata": {},
   "source": [
    "---\n",
    "### Mean Absolute Error"
   ]
  },
  {
   "cell_type": "code",
   "execution_count": 8,
   "id": "f74f80e0",
   "metadata": {},
   "outputs": [
    {
     "name": "stdout",
     "output_type": "stream",
     "text": [
      "Training accuracy: 0.8293333333333334\n",
      "Testing accuracy: 0.836\n"
     ]
    }
   ],
   "source": [
    "model = Pipeline([\n",
    "    ('sc', StandardScaler()),\n",
    "    ('est', GeneralLossMinimizer(\n",
    "        loss_fn=losses.cmae_loss,\n",
    "        link_fn=links.softmax_link,\n",
    "        random_state=seed,\n",
    "        tol=5e-3\n",
    "    )),\n",
    "])\n",
    "model[-1].set_estimator_type('classifier')\n",
    "model[-1].set_multi_output(True)\n",
    "\n",
    "ohe = OneHotEncoder(sparse=False)\n",
    "ye_train = ohe.fit_transform(y_train.reshape(-1,1))\n",
    "ye_test = ohe.transform(y_test.reshape(-1,1))\n",
    "\n",
    "model.fit(X_train, ye_train)\n",
    "y_hat = model.predict(X_train).argmax(1)\n",
    "print('Training accuracy:', (y_train==y_hat).mean())\n",
    "\n",
    "y_hat = model.predict(X_test).argmax(1)\n",
    "print('Testing accuracy:', (y_test==y_hat).mean())"
   ]
  },
  {
   "cell_type": "code",
   "execution_count": 9,
   "id": "66a2e576",
   "metadata": {},
   "outputs": [
    {
     "name": "stdout",
     "output_type": "stream",
     "text": [
      "Training accuracy: 0.8293333333333334\n",
      "Testing accuracy: 0.836\n"
     ]
    }
   ],
   "source": [
    "model = Pipeline([\n",
    "    ('sc', StandardScaler()),\n",
    "    ('est', CustomLossClassifier(\n",
    "        loss_fn=losses.cmae_loss,\n",
    "        link_fn=links.softmax_link,\n",
    "        random_state=seed,\n",
    "        tol=5e-3,\n",
    "    )),\n",
    "])\n",
    "\n",
    "model.fit(X_train, y_train)\n",
    "y_hat = model.predict(X_train)\n",
    "print('Training accuracy:', (y_train==y_hat).mean())\n",
    "\n",
    "y_hat = model.predict(X_test)\n",
    "print('Testing accuracy:', (y_test==y_hat).mean())"
   ]
  },
  {
   "cell_type": "markdown",
   "id": "babfb0b9",
   "metadata": {},
   "source": [
    "---\n",
    "### Negative Box-Cox"
   ]
  },
  {
   "cell_type": "code",
   "execution_count": 10,
   "id": "22ce53fa",
   "metadata": {},
   "outputs": [
    {
     "name": "stdout",
     "output_type": "stream",
     "text": [
      "Training accuracy: 0.8693333333333333\n",
      "Testing accuracy: 0.86\n"
     ]
    }
   ],
   "source": [
    "lambda_ = 0.5\n",
    "\n",
    "model = Pipeline([\n",
    "    ('sc', StandardScaler()),\n",
    "    ('est', GeneralLossMinimizer(\n",
    "        loss_fn=partial(losses.multi_neg_box_cox_loss, lam=lambda_),\n",
    "        link_fn=links.softmax_link,\n",
    "        random_state=seed,\n",
    "    )),\n",
    "])\n",
    "model[-1].set_estimator_type('classifier')\n",
    "model[-1].set_multi_output(True)\n",
    "\n",
    "ohe = OneHotEncoder(sparse=False)\n",
    "ye_train = ohe.fit_transform(y_train.reshape(-1,1))\n",
    "ye_test = ohe.transform(y_test.reshape(-1,1))\n",
    "\n",
    "model.fit(X_train, ye_train)\n",
    "y_hat = model.predict(X_train).argmax(1)\n",
    "print('Training accuracy:', (y_train==y_hat).mean())\n",
    "\n",
    "y_hat = model.predict(X_test).argmax(1)\n",
    "print('Testing accuracy:', (y_test==y_hat).mean())"
   ]
  },
  {
   "cell_type": "code",
   "execution_count": 11,
   "id": "e810dfc7",
   "metadata": {
    "scrolled": true
   },
   "outputs": [
    {
     "name": "stdout",
     "output_type": "stream",
     "text": [
      "Training accuracy: 0.8693333333333333\n",
      "Testing accuracy: 0.86\n"
     ]
    }
   ],
   "source": [
    "lambda_ = 0.5\n",
    "\n",
    "model = Pipeline([\n",
    "    ('sc', StandardScaler()),\n",
    "    ('est', CustomLossClassifier(\n",
    "        loss_fn=partial(losses.multi_neg_box_cox_loss, lam=lambda_),\n",
    "        link_fn=links.softmax_link,\n",
    "        random_state=seed,\n",
    "    )),\n",
    "])\n",
    "\n",
    "model.fit(X_train, y_train)\n",
    "y_hat = model.predict(X_train)\n",
    "print('Training accuracy:', (y_train==y_hat).mean())\n",
    "\n",
    "y_hat = model.predict(X_test)\n",
    "print('Testing accuracy:', (y_test==y_hat).mean())"
   ]
  },
  {
   "cell_type": "markdown",
   "id": "176153f2",
   "metadata": {},
   "source": [
    "---\n",
    "### Maximum Likelihood Estimate"
   ]
  },
  {
   "cell_type": "code",
   "execution_count": 12,
   "id": "2205893f",
   "metadata": {},
   "outputs": [
    {
     "name": "stdout",
     "output_type": "stream",
     "text": [
      "Training accuracy: 0.86\n",
      "Testing accuracy: 0.872\n"
     ]
    }
   ],
   "source": [
    "model = Pipeline([\n",
    "    ('sc', StandardScaler()),\n",
    "    ('est', GeneralLossMinimizer(\n",
    "        loss_fn=losses.multinomial_mle,\n",
    "        link_fn=links.softmax_link,\n",
    "        random_state=seed,\n",
    "    )),\n",
    "])\n",
    "model[-1].set_estimator_type('classifier')\n",
    "model[-1].set_multi_output(True)\n",
    "\n",
    "ohe = OneHotEncoder(sparse=False)\n",
    "ye_train = ohe.fit_transform(y_train.reshape(-1,1))\n",
    "ye_test = ohe.transform(y_test.reshape(-1,1))\n",
    "\n",
    "model.fit(X_train, ye_train)\n",
    "y_hat = model.predict(X_train).argmax(1)\n",
    "print('Training accuracy:', (y_train==y_hat).mean())\n",
    "\n",
    "y_hat = model.predict(X_test).argmax(1)\n",
    "print('Testing accuracy:', (y_test==y_hat).mean())"
   ]
  },
  {
   "cell_type": "code",
   "execution_count": 13,
   "id": "4e4753d6",
   "metadata": {},
   "outputs": [
    {
     "name": "stdout",
     "output_type": "stream",
     "text": [
      "Training accuracy: 0.86\n",
      "Testing accuracy: 0.872\n"
     ]
    }
   ],
   "source": [
    "model = Pipeline([\n",
    "    ('sc', StandardScaler()),\n",
    "    ('est', CustomLossClassifier(\n",
    "        loss_fn=losses.multinomial_mle,\n",
    "        link_fn=links.softmax_link,\n",
    "        random_state=seed,\n",
    "    )),\n",
    "])\n",
    "\n",
    "model.fit(X_train, y_train)\n",
    "y_hat = model.predict(X_train)\n",
    "print('Training accuracy:', (y_train==y_hat).mean())\n",
    "\n",
    "y_hat = model.predict(X_test)\n",
    "print('Testing accuracy:', (y_test==y_hat).mean())"
   ]
  },
  {
   "cell_type": "markdown",
   "id": "5e359ca7",
   "metadata": {},
   "source": [
    "---"
   ]
  },
  {
   "cell_type": "code",
   "execution_count": null,
   "id": "f0b7e20a",
   "metadata": {},
   "outputs": [],
   "source": []
  }
 ],
 "metadata": {
  "kernelspec": {
   "display_name": "mnzr",
   "language": "python",
   "name": "mnzr"
  },
  "language_info": {
   "codemirror_mode": {
    "name": "ipython",
    "version": 3
   },
   "file_extension": ".py",
   "mimetype": "text/x-python",
   "name": "python",
   "nbconvert_exporter": "python",
   "pygments_lexer": "ipython3",
   "version": "3.10.4"
  }
 },
 "nbformat": 4,
 "nbformat_minor": 5
}
