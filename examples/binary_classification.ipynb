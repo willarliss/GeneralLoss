{
 "cells": [
  {
   "cell_type": "code",
   "execution_count": 1,
   "id": "eff7d8cb",
   "metadata": {},
   "outputs": [],
   "source": [
    "import os\n",
    "from functools import partial\n",
    "\n",
    "import numpy as np\n",
    "from sklearn.pipeline import Pipeline\n",
    "from sklearn.preprocessing import StandardScaler\n",
    "from sklearn.model_selection import train_test_split\n",
    "from sklearn.datasets import make_classification\n"
   ]
  },
  {
   "cell_type": "code",
   "execution_count": 2,
   "id": "e463e078",
   "metadata": {},
   "outputs": [
    {
     "data": {
      "text/plain": [
       "True"
      ]
     },
     "execution_count": 2,
     "metadata": {},
     "output_type": "execute_result"
    }
   ],
   "source": [
    "os.chdir('..')\n",
    "os.getcwd().split('/')[-1] == 'GeneralLoss'"
   ]
  },
  {
   "cell_type": "code",
   "execution_count": 3,
   "id": "f042110a",
   "metadata": {},
   "outputs": [],
   "source": [
    "from minimizers import links\n",
    "from minimizers import losses\n",
    "from minimizers.minimize import GeneralLossMinimizer, CustomLossClassifier"
   ]
  },
  {
   "cell_type": "code",
   "execution_count": 4,
   "id": "0d1819af",
   "metadata": {},
   "outputs": [],
   "source": [
    "seed = 0"
   ]
  },
  {
   "cell_type": "code",
   "execution_count": 5,
   "id": "1edfa0d6",
   "metadata": {},
   "outputs": [],
   "source": [
    "X, y = make_classification(\n",
    "    n_classes=2, \n",
    "    n_samples=1000, \n",
    "    n_features=10, \n",
    "    flip_y=0., \n",
    "    n_clusters_per_class=1, \n",
    "    random_state=seed,\n",
    ")\n",
    "X_train, X_test, y_train, y_test = train_test_split(X, y, random_state=seed)\n",
    "del X, y"
   ]
  },
  {
   "cell_type": "markdown",
   "id": "5869f218",
   "metadata": {},
   "source": [
    "---\n",
    "### Cross Entropy"
   ]
  },
  {
   "cell_type": "code",
   "execution_count": 6,
   "id": "6d5f5c0b",
   "metadata": {},
   "outputs": [
    {
     "name": "stdout",
     "output_type": "stream",
     "text": [
      "Training accuracy: 0.9226666666666666\n",
      "Testing accuracy: 0.92\n"
     ]
    }
   ],
   "source": [
    "model = Pipeline([\n",
    "    ('sc', StandardScaler()),\n",
    "    ('est', GeneralLossMinimizer(\n",
    "        loss_fn=losses.bce_loss,\n",
    "        link_fn=links.sigmoid_link,\n",
    "        random_state=seed,\n",
    "    )),\n",
    "])\n",
    "model[-1].set_estimator_type('classifier')\n",
    "model[-1].set_multi_output(False)\n",
    "\n",
    "model.fit(X_train, y_train)\n",
    "y_hat = (model.predict(X_train)>0.5).astype(int).flatten()\n",
    "print('Training accuracy:', (y_train==y_hat).mean())\n",
    "\n",
    "y_hat = (model.predict(X_test)>0.5).astype(int).flatten()\n",
    "print('Testing accuracy:', (y_test==y_hat).mean())"
   ]
  },
  {
   "cell_type": "code",
   "execution_count": 7,
   "id": "acddde64",
   "metadata": {},
   "outputs": [
    {
     "name": "stdout",
     "output_type": "stream",
     "text": [
      "Training accuracy: 0.9226666666666666\n",
      "Testing accuracy: 0.92\n"
     ]
    }
   ],
   "source": [
    "model = Pipeline([\n",
    "    ('sc', StandardScaler()),\n",
    "    ('est', CustomLossClassifier(\n",
    "        loss_fn=losses.cce_loss,\n",
    "        link_fn=links.softmax_link,\n",
    "        random_state=seed,\n",
    "    )),\n",
    "])\n",
    "\n",
    "model.fit(X_train, y_train)\n",
    "y_hat = model.predict(X_train)\n",
    "print('Training accuracy:', (y_train==y_hat).mean())\n",
    "\n",
    "y_hat = model.predict(X_test)\n",
    "print('Testing accuracy:', (y_test==y_hat).mean())"
   ]
  },
  {
   "cell_type": "markdown",
   "id": "bc5c7b64",
   "metadata": {},
   "source": [
    "---\n",
    "### Mean Absolute Error"
   ]
  },
  {
   "cell_type": "code",
   "execution_count": 8,
   "id": "4a53c45a",
   "metadata": {},
   "outputs": [
    {
     "name": "stdout",
     "output_type": "stream",
     "text": [
      "Training accuracy: 0.9186666666666666\n",
      "Testing accuracy: 0.888\n"
     ]
    }
   ],
   "source": [
    "model = Pipeline([\n",
    "    ('sc', StandardScaler()),\n",
    "    ('est', GeneralLossMinimizer(\n",
    "        loss_fn=losses.mae_loss,\n",
    "        link_fn=links.sigmoid_link,\n",
    "        random_state=seed,\n",
    "    )),\n",
    "])\n",
    "model[-1].set_estimator_type('classifier')\n",
    "model[-1].set_multi_output(False)\n",
    "\n",
    "model.fit(X_train, y_train)\n",
    "y_hat = (model.predict(X_train)>0.5).astype(int).flatten()\n",
    "print('Training accuracy:', (y_train==y_hat).mean())\n",
    "\n",
    "y_hat = (model.predict(X_test)>0.5).astype(int).flatten()\n",
    "print('Testing accuracy:', (y_test==y_hat).mean())"
   ]
  },
  {
   "cell_type": "code",
   "execution_count": 9,
   "id": "66a2e576",
   "metadata": {},
   "outputs": [
    {
     "name": "stdout",
     "output_type": "stream",
     "text": [
      "Training accuracy: 0.908\n",
      "Testing accuracy: 0.892\n"
     ]
    }
   ],
   "source": [
    "model = Pipeline([\n",
    "    ('sc', StandardScaler()),\n",
    "    ('est', CustomLossClassifier(\n",
    "        loss_fn=losses.cmae_loss,\n",
    "        link_fn=links.softmax_link,\n",
    "        random_state=seed,\n",
    "        tol=1e-3,\n",
    "    )),\n",
    "])\n",
    "\n",
    "model.fit(X_train, y_train)\n",
    "y_hat = model.predict(X_train)\n",
    "print('Training accuracy:', (y_train==y_hat).mean())\n",
    "\n",
    "y_hat = model.predict(X_test)\n",
    "print('Testing accuracy:', (y_test==y_hat).mean())"
   ]
  },
  {
   "cell_type": "markdown",
   "id": "4b297249",
   "metadata": {},
   "source": [
    "---\n",
    "### Negative Box-Cox"
   ]
  },
  {
   "cell_type": "code",
   "execution_count": 10,
   "id": "6a98061a",
   "metadata": {},
   "outputs": [
    {
     "name": "stdout",
     "output_type": "stream",
     "text": [
      "Training accuracy: 0.9226666666666666\n",
      "Testing accuracy: 0.916\n"
     ]
    }
   ],
   "source": [
    "lambda_ = 0.5\n",
    "\n",
    "model = Pipeline([\n",
    "    ('sc', StandardScaler()),\n",
    "    ('est', GeneralLossMinimizer(\n",
    "        loss_fn=partial(losses.neg_box_cox_loss, lam=lambda_),\n",
    "        link_fn=links.sigmoid_link,\n",
    "        random_state=seed,\n",
    "    )),\n",
    "])\n",
    "model[-1].set_estimator_type('classifier')\n",
    "model[-1].set_multi_output(False)\n",
    "\n",
    "model.fit(X_train, y_train)\n",
    "y_hat = (model.predict(X_train)>0.5).astype(int).flatten()\n",
    "print('Training accuracy:', (y_train==y_hat).mean())\n",
    "\n",
    "y_hat = (model.predict(X_test)>0.5).astype(int).flatten()\n",
    "print('Testing accuracy:', (y_test==y_hat).mean())"
   ]
  },
  {
   "cell_type": "code",
   "execution_count": 11,
   "id": "8b81a8d1",
   "metadata": {},
   "outputs": [
    {
     "name": "stdout",
     "output_type": "stream",
     "text": [
      "Training accuracy: 0.9226666666666666\n",
      "Testing accuracy: 0.916\n"
     ]
    }
   ],
   "source": [
    "lambda_ = 0.5\n",
    "\n",
    "model = Pipeline([\n",
    "    ('sc', StandardScaler()),\n",
    "    ('est', CustomLossClassifier(\n",
    "        loss_fn=partial(losses.multi_neg_box_cox_loss, lam=lambda_),\n",
    "        link_fn=links.softmax_link,\n",
    "        random_state=seed,\n",
    "    )),\n",
    "])\n",
    "\n",
    "model.fit(X_train, y_train)\n",
    "y_hat = model.predict(X_train)\n",
    "print('Training accuracy:', (y_train==y_hat).mean())\n",
    "\n",
    "y_hat = model.predict(X_test)\n",
    "print('Testing accuracy:', (y_test==y_hat).mean())"
   ]
  },
  {
   "cell_type": "markdown",
   "id": "15aed3cd",
   "metadata": {},
   "source": [
    "---\n",
    "### Maximum Likelihood Estimate"
   ]
  },
  {
   "cell_type": "code",
   "execution_count": 12,
   "id": "6650dc2a",
   "metadata": {},
   "outputs": [
    {
     "name": "stdout",
     "output_type": "stream",
     "text": [
      "Training accuracy: 0.9226666666666666\n",
      "Testing accuracy: 0.92\n"
     ]
    }
   ],
   "source": [
    "model = Pipeline([\n",
    "    ('sc', StandardScaler()),\n",
    "    ('est', GeneralLossMinimizer(\n",
    "        loss_fn=losses.binomial_mle,\n",
    "        link_fn=links.sigmoid_link,\n",
    "        random_state=seed,\n",
    "    )),\n",
    "])\n",
    "model[-1].set_estimator_type('classifier')\n",
    "model[-1].set_multi_output(False)\n",
    "\n",
    "model.fit(X_train, y_train)\n",
    "y_hat = (model.predict(X_train)>0.5).astype(int).flatten()\n",
    "print('Training accuracy:', (y_train==y_hat).mean())\n",
    "\n",
    "y_hat = (model.predict(X_test)>0.5).astype(int).flatten()\n",
    "print('Testing accuracy:', (y_test==y_hat).mean())"
   ]
  },
  {
   "cell_type": "code",
   "execution_count": 13,
   "id": "e4d20d9b",
   "metadata": {},
   "outputs": [
    {
     "name": "stdout",
     "output_type": "stream",
     "text": [
      "Training accuracy: 0.9226666666666666\n",
      "Testing accuracy: 0.92\n"
     ]
    }
   ],
   "source": [
    "model = Pipeline([\n",
    "    ('sc', StandardScaler()),\n",
    "    ('est', CustomLossClassifier(\n",
    "        loss_fn=losses.multinomial_mle,\n",
    "        link_fn=links.softmax_link,\n",
    "        random_state=seed,\n",
    "    )),\n",
    "])\n",
    "\n",
    "model.fit(X_train, y_train)\n",
    "y_hat = model.predict(X_train)\n",
    "print('Training accuracy:', (y_train==y_hat).mean())\n",
    "\n",
    "y_hat = model.predict(X_test)\n",
    "print('Testing accuracy:', (y_test==y_hat).mean())"
   ]
  },
  {
   "cell_type": "markdown",
   "id": "2542e2e6",
   "metadata": {},
   "source": [
    "---\n",
    "### Hinge loss"
   ]
  },
  {
   "cell_type": "code",
   "execution_count": 14,
   "id": "4a2a4fc5",
   "metadata": {},
   "outputs": [
    {
     "name": "stdout",
     "output_type": "stream",
     "text": [
      "Training accuracy: 0.9226666666666666\n",
      "Testing accuracy: 0.924\n"
     ]
    }
   ],
   "source": [
    "power = 1.\n",
    "\n",
    "model = Pipeline([\n",
    "    ('sc', StandardScaler()),\n",
    "    ('est', GeneralLossMinimizer(\n",
    "        loss_fn=partial(losses.hinge_loss, power=power),\n",
    "        link_fn=links.linear_link,\n",
    "        random_state=seed,\n",
    "    )),\n",
    "])\n",
    "model[-1].set_estimator_type('classifier')\n",
    "model[-1].set_multi_output(False)\n",
    "\n",
    "yp_train = np.where(y_train==0, -1, 1)\n",
    "yp_test = np.where(y_test==0, -1, 1)\n",
    "model.fit(X_train, yp_train)\n",
    "y_hat = np.where(model.predict(X_train)>0., 1, -1).flatten()\n",
    "print('Training accuracy:', (yp_train==y_hat).mean())\n",
    "\n",
    "y_hat = np.where(model.predict(X_test)>0., 1, -1).flatten()\n",
    "print('Testing accuracy:', (yp_test==y_hat).mean())"
   ]
  },
  {
   "cell_type": "markdown",
   "id": "ef602170",
   "metadata": {},
   "source": [
    "---\n",
    "### Perceptron loss"
   ]
  },
  {
   "cell_type": "code",
   "execution_count": 15,
   "id": "277965a2",
   "metadata": {},
   "outputs": [
    {
     "name": "stdout",
     "output_type": "stream",
     "text": [
      "Training accuracy: 0.7933333333333333\n",
      "Testing accuracy: 0.76\n"
     ]
    }
   ],
   "source": [
    "power = 1.\n",
    "\n",
    "model = Pipeline([\n",
    "    ('sc', StandardScaler()),\n",
    "    ('est', GeneralLossMinimizer(\n",
    "        loss_fn=losses.perceptron_loss,\n",
    "        link_fn=links.sigmoid_link,\n",
    "        random_state=seed,\n",
    "    )),\n",
    "])\n",
    "model[-1].set_estimator_type('classifier')\n",
    "model[-1].set_multi_output(False)\n",
    "\n",
    "yp_train = np.where(y_train==0, -1, 1)\n",
    "yp_test = np.where(y_test==0, -1, 1)\n",
    "model.fit(X_train, yp_train)\n",
    "y_hat = np.where(model.predict(X_train)>0.5, 1, -1).flatten()\n",
    "print('Training accuracy:', (yp_train==y_hat).mean())\n",
    "\n",
    "y_hat = np.where(model.predict(X_test)>0.5, 1, -1).flatten()\n",
    "print('Testing accuracy:', (yp_test==y_hat).mean())"
   ]
  },
  {
   "cell_type": "markdown",
   "id": "d9cdadf9",
   "metadata": {},
   "source": [
    "---"
   ]
  },
  {
   "cell_type": "code",
   "execution_count": null,
   "id": "8955369c",
   "metadata": {},
   "outputs": [],
   "source": []
  }
 ],
 "metadata": {
  "kernelspec": {
   "display_name": "mnzr",
   "language": "python",
   "name": "mnzr"
  },
  "language_info": {
   "codemirror_mode": {
    "name": "ipython",
    "version": 3
   },
   "file_extension": ".py",
   "mimetype": "text/x-python",
   "name": "python",
   "nbconvert_exporter": "python",
   "pygments_lexer": "ipython3",
   "version": "3.10.4"
  }
 },
 "nbformat": 4,
 "nbformat_minor": 5
}
