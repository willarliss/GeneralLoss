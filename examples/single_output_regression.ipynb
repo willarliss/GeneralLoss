{
 "cells": [
  {
   "cell_type": "code",
   "execution_count": 1,
   "id": "ec2b6a09",
   "metadata": {},
   "outputs": [],
   "source": [
    "import os\n",
    "from functools import partial\n",
    "\n",
    "import numpy as np\n",
    "from sklearn.pipeline import Pipeline\n",
    "from sklearn.preprocessing import StandardScaler\n",
    "from sklearn.model_selection import train_test_split\n",
    "from sklearn.datasets import make_regression\n"
   ]
  },
  {
   "cell_type": "code",
   "execution_count": 2,
   "id": "67998fb7",
   "metadata": {},
   "outputs": [
    {
     "data": {
      "text/plain": [
       "True"
      ]
     },
     "execution_count": 2,
     "metadata": {},
     "output_type": "execute_result"
    }
   ],
   "source": [
    "os.chdir('..')\n",
    "os.getcwd().split('/')[-1] == 'GeneralLoss'"
   ]
  },
  {
   "cell_type": "code",
   "execution_count": 3,
   "id": "59a5bc4e",
   "metadata": {},
   "outputs": [],
   "source": [
    "from minimizers import links\n",
    "from minimizers import losses\n",
    "from minimizers.minimize import GeneralLossMinimizer, CustomLossRegressor"
   ]
  },
  {
   "cell_type": "code",
   "execution_count": 4,
   "id": "f44c5e33",
   "metadata": {},
   "outputs": [],
   "source": [
    "seed = 0"
   ]
  },
  {
   "cell_type": "code",
   "execution_count": 5,
   "id": "1edfa0d6",
   "metadata": {},
   "outputs": [],
   "source": [
    "X, y = make_regression(\n",
    "    n_targets=1, \n",
    "    n_samples=1000, \n",
    "    n_features=10, \n",
    "    random_state=seed,\n",
    ")\n",
    "X_train, X_test, y_train, y_test = train_test_split(X, y, random_state=seed)\n",
    "del X, y"
   ]
  },
  {
   "cell_type": "markdown",
   "id": "5869f218",
   "metadata": {},
   "source": [
    "---\n",
    "### Mean Squared Error"
   ]
  },
  {
   "cell_type": "code",
   "execution_count": 6,
   "id": "6d5f5c0b",
   "metadata": {},
   "outputs": [
    {
     "name": "stdout",
     "output_type": "stream",
     "text": [
      "Training error: 1.79766868199184e-05\n",
      "Training error: 1.9921911612004604e-05\n"
     ]
    }
   ],
   "source": [
    "model = Pipeline([\n",
    "    ('sc', StandardScaler()),\n",
    "    ('est', GeneralLossMinimizer(\n",
    "        loss_fn=losses.mse_loss,\n",
    "        link_fn=links.linear_link,\n",
    "        random_state=seed,\n",
    "    )),\n",
    "])\n",
    "model[-1].set_estimator_type('regressor')\n",
    "model[-1].set_multi_output(False)\n",
    "\n",
    "model.fit(X_train, y_train)\n",
    "y_hat = model.predict(X_train)\n",
    "print('Training error:', ((y_train-y_hat)**2).mean()**0.5)\n",
    "\n",
    "y_hat = model.predict(X_test)\n",
    "print('Training error:', ((y_test-y_hat)**2).mean()**0.5)"
   ]
  },
  {
   "cell_type": "code",
   "execution_count": 7,
   "id": "c8ccaf24",
   "metadata": {},
   "outputs": [
    {
     "name": "stdout",
     "output_type": "stream",
     "text": [
      "Training error: 4.9928711244253936e-05\n",
      "Training error: 5.395171147134042e-05\n"
     ]
    }
   ],
   "source": [
    "model = Pipeline([\n",
    "    ('sc', StandardScaler()),\n",
    "    ('est', CustomLossRegressor(\n",
    "        loss_fn=losses.multi_mse_loss,\n",
    "        link_fn=links.linear_link,\n",
    "        random_state=seed,\n",
    "    )),\n",
    "])\n",
    "\n",
    "model.fit(X_train, y_train)\n",
    "y_hat = model.predict(X_train)\n",
    "print('Training error:', ((y_train-y_hat)**2).mean()**0.5)\n",
    "\n",
    "y_hat = model.predict(X_test)\n",
    "print('Training error:', ((y_test-y_hat)**2).mean()**0.5)"
   ]
  },
  {
   "cell_type": "markdown",
   "id": "9321a003",
   "metadata": {},
   "source": [
    "---\n",
    "### Pseudo-Huber Loss"
   ]
  },
  {
   "cell_type": "code",
   "execution_count": 8,
   "id": "bb9c2072",
   "metadata": {},
   "outputs": [
    {
     "name": "stdout",
     "output_type": "stream",
     "text": [
      "Training error: 1.489636803489353e-05\n",
      "Training error: 1.5202140865817542e-05\n"
     ]
    }
   ],
   "source": [
    "delta = 1.\n",
    "\n",
    "model = Pipeline([\n",
    "    ('sc', StandardScaler()),\n",
    "    ('est', GeneralLossMinimizer(\n",
    "        loss_fn=partial(losses.pseudo_huber_loss, delta=delta),\n",
    "        link_fn=links.linear_link,\n",
    "        random_state=seed,\n",
    "    )),\n",
    "])\n",
    "model[-1].set_estimator_type('regressor')\n",
    "model[-1].set_multi_output(False)\n",
    "\n",
    "model.fit(X_train, y_train)\n",
    "y_hat = model.predict(X_train)\n",
    "print('Training error:', ((y_train-y_hat)**2).mean()**0.5)\n",
    "\n",
    "y_hat = model.predict(X_test)\n",
    "print('Training error:', ((y_test-y_hat)**2).mean()**0.5)"
   ]
  },
  {
   "cell_type": "code",
   "execution_count": 9,
   "id": "223e59bd",
   "metadata": {},
   "outputs": [
    {
     "name": "stdout",
     "output_type": "stream",
     "text": [
      "Training error: 1.489636803489353e-05\n",
      "Training error: 1.5202140865817542e-05\n"
     ]
    }
   ],
   "source": [
    "delta = 1.\n",
    "\n",
    "model = Pipeline([\n",
    "    ('sc', StandardScaler()),\n",
    "    ('est', CustomLossRegressor(\n",
    "        loss_fn=partial(losses.multi_pseudo_huber_loss, delta=delta),\n",
    "        link_fn=links.linear_link,\n",
    "        random_state=seed,\n",
    "    )),\n",
    "])\n",
    "\n",
    "model.fit(X_train, y_train)\n",
    "y_hat = model.predict(X_train)\n",
    "print('Training error:', ((y_train-y_hat)**2).mean()**0.5)\n",
    "\n",
    "y_hat = model.predict(X_test)\n",
    "print('Training error:', ((y_test-y_hat)**2).mean()**0.5)"
   ]
  },
  {
   "cell_type": "markdown",
   "id": "b4c44c46",
   "metadata": {},
   "source": [
    "---\n",
    "### Gaussian MLE"
   ]
  },
  {
   "cell_type": "code",
   "execution_count": 10,
   "id": "b7772a2a",
   "metadata": {},
   "outputs": [
    {
     "name": "stdout",
     "output_type": "stream",
     "text": [
      "Training error: 1.797324097906514e-05\n",
      "Training error: 1.991772088218421e-05\n"
     ]
    }
   ],
   "source": [
    "model = Pipeline([\n",
    "    ('sc', StandardScaler()),\n",
    "    ('est', GeneralLossMinimizer(\n",
    "        loss_fn=losses.gaussian_mle,\n",
    "        link_fn=links.linear_link,\n",
    "        random_state=seed,\n",
    "    )),\n",
    "])\n",
    "model[-1].set_estimator_type('regressor')\n",
    "model[-1].set_multi_output(False)\n",
    "\n",
    "model.fit(X_train, y_train)\n",
    "y_hat = model.predict(X_train)\n",
    "print('Training error:', ((y_train-y_hat)**2).mean()**0.5)\n",
    "\n",
    "y_hat = model.predict(X_test)\n",
    "print('Training error:', ((y_test-y_hat)**2).mean()**0.5)"
   ]
  },
  {
   "cell_type": "code",
   "execution_count": 11,
   "id": "8135aced",
   "metadata": {},
   "outputs": [
    {
     "name": "stdout",
     "output_type": "stream",
     "text": [
      "Training error: 1.797324097906514e-05\n",
      "Training error: 1.991772088218421e-05\n"
     ]
    }
   ],
   "source": [
    "model = Pipeline([\n",
    "    ('sc', StandardScaler()),\n",
    "    ('est', CustomLossRegressor(\n",
    "        loss_fn=losses.multivariate_gaussian_mle,\n",
    "        link_fn=links.linear_link,\n",
    "        random_state=seed,\n",
    "    )),\n",
    "])\n",
    "\n",
    "model.fit(X_train, y_train)\n",
    "y_hat = model.predict(X_train)\n",
    "print('Training error:', ((y_train-y_hat)**2).mean()**0.5)\n",
    "\n",
    "y_hat = model.predict(X_test)\n",
    "print('Training error:', ((y_test-y_hat)**2).mean()**0.5)"
   ]
  },
  {
   "cell_type": "markdown",
   "id": "1e6f0779",
   "metadata": {},
   "source": [
    "---\n",
    "### Poisson MLE"
   ]
  },
  {
   "cell_type": "code",
   "execution_count": 12,
   "id": "62a755eb",
   "metadata": {},
   "outputs": [
    {
     "name": "stdout",
     "output_type": "stream",
     "text": [
      "Training error: 0.3523098506065447\n",
      "Training error: 0.6084790052573759\n"
     ]
    }
   ],
   "source": [
    "model = Pipeline([\n",
    "    ('sc', StandardScaler()),\n",
    "    ('est', GeneralLossMinimizer(\n",
    "        loss_fn=losses.poisson_mle,\n",
    "        link_fn=links.log_link,\n",
    "        random_state=seed,\n",
    "    )),\n",
    "])\n",
    "model[-1].set_estimator_type('regressor')\n",
    "model[-1].set_multi_output(False)\n",
    "\n",
    "yp_train = np.exp(y_train*0.01).round()\n",
    "yp_test = np.exp(y_test*0.01).round()\n",
    "model.fit(X_train, yp_train)\n",
    "y_hat = model.predict(X_train)\n",
    "print('Training error:', ((yp_train-y_hat)**2).mean()**0.5)\n",
    "\n",
    "y_hat = model.predict(X_test)\n",
    "print('Training error:', ((yp_test-y_hat)**2).mean()**0.5)"
   ]
  },
  {
   "cell_type": "markdown",
   "id": "3ad5cd51",
   "metadata": {},
   "source": [
    "---"
   ]
  },
  {
   "cell_type": "code",
   "execution_count": null,
   "id": "8caaed95",
   "metadata": {},
   "outputs": [],
   "source": []
  }
 ],
 "metadata": {
  "kernelspec": {
   "display_name": "mnzr",
   "language": "python",
   "name": "mnzr"
  },
  "language_info": {
   "codemirror_mode": {
    "name": "ipython",
    "version": 3
   },
   "file_extension": ".py",
   "mimetype": "text/x-python",
   "name": "python",
   "nbconvert_exporter": "python",
   "pygments_lexer": "ipython3",
   "version": "3.10.4"
  }
 },
 "nbformat": 4,
 "nbformat_minor": 5
}
