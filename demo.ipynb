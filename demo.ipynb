{
 "cells": [
  {
   "cell_type": "code",
   "execution_count": 1,
   "id": "f1ed32a8",
   "metadata": {},
   "outputs": [],
   "source": [
    "from sklearn.datasets import make_classification\n",
    "from sklearn.model_selection import train_test_split\n",
    "from sklearn.pipeline import Pipeline\n",
    "from sklearn.preprocessing import StandardScaler\n",
    "from minimizers.minimize import CustomLossMinimizer, CustomLossClassifier"
   ]
  },
  {
   "cell_type": "code",
   "execution_count": 2,
   "id": "ad5fed30",
   "metadata": {},
   "outputs": [],
   "source": [
    "seed = 0"
   ]
  },
  {
   "cell_type": "markdown",
   "id": "3a4785d9",
   "metadata": {},
   "source": [
    "---"
   ]
  },
  {
   "cell_type": "code",
   "execution_count": 3,
   "id": "de34f746",
   "metadata": {},
   "outputs": [],
   "source": [
    "X, y = make_classification(\n",
    "    n_classes=2, \n",
    "    n_samples=1000, \n",
    "    n_features=10, \n",
    "    flip_y=0., \n",
    "    n_clusters_per_class=1, \n",
    "    random_state=seed+1,\n",
    ")\n",
    "X_train, X_test, y_train, y_test = train_test_split(X, y, random_state=seed)\n",
    "del X, y"
   ]
  },
  {
   "cell_type": "code",
   "execution_count": 4,
   "id": "79db58b6",
   "metadata": {},
   "outputs": [],
   "source": [
    "mod = Pipeline([\n",
    "    ('sc', StandardScaler()),\n",
    "    ('clf', CustomLossMinimizer(random_state=seed)),\n",
    "])"
   ]
  },
  {
   "cell_type": "code",
   "execution_count": 5,
   "id": "99343884",
   "metadata": {},
   "outputs": [
    {
     "data": {
      "text/plain": [
       "Pipeline(steps=[('sc', StandardScaler()),\n",
       "                ('clf', CustomLossMinimizer(random_state=0))])"
      ]
     },
     "execution_count": 5,
     "metadata": {},
     "output_type": "execute_result"
    }
   ],
   "source": [
    "mod.fit(X_train, y_train)"
   ]
  },
  {
   "cell_type": "code",
   "execution_count": 6,
   "id": "4b0880ad",
   "metadata": {},
   "outputs": [
    {
     "data": {
      "text/plain": [
       "0.8946666666666667"
      ]
     },
     "execution_count": 6,
     "metadata": {},
     "output_type": "execute_result"
    }
   ],
   "source": [
    "y_hat = mod.predict(X_train).round()\n",
    "(y_hat==y_train).mean()"
   ]
  },
  {
   "cell_type": "code",
   "execution_count": 7,
   "id": "1caf30ea",
   "metadata": {},
   "outputs": [
    {
     "data": {
      "text/plain": [
       "0.916"
      ]
     },
     "execution_count": 7,
     "metadata": {},
     "output_type": "execute_result"
    }
   ],
   "source": [
    "y_hat = mod.predict(X_test).round()\n",
    "(y_hat==y_test).mean()"
   ]
  },
  {
   "cell_type": "markdown",
   "id": "dbd88d6f",
   "metadata": {},
   "source": [
    "---"
   ]
  },
  {
   "cell_type": "code",
   "execution_count": 8,
   "id": "80709070",
   "metadata": {},
   "outputs": [],
   "source": [
    "X, y = make_classification(\n",
    "    n_classes=3, \n",
    "    n_samples=1000, \n",
    "    n_features=10, \n",
    "    flip_y=0., \n",
    "    n_clusters_per_class=1, \n",
    "    random_state=seed+2,\n",
    ")\n",
    "X_train, X_test, y_train, y_test = train_test_split(X, y, random_state=seed)\n",
    "del X, y"
   ]
  },
  {
   "cell_type": "code",
   "execution_count": 9,
   "id": "e7ba9459",
   "metadata": {},
   "outputs": [],
   "source": [
    "mod = Pipeline([\n",
    "    ('sc', StandardScaler()),\n",
    "    ('clf', CustomLossClassifier(random_state=seed)),\n",
    "])"
   ]
  },
  {
   "cell_type": "code",
   "execution_count": 10,
   "id": "0f561995",
   "metadata": {},
   "outputs": [
    {
     "data": {
      "text/plain": [
       "Pipeline(steps=[('sc', StandardScaler()),\n",
       "                ('clf', CustomLossClassifier(random_state=0))])"
      ]
     },
     "execution_count": 10,
     "metadata": {},
     "output_type": "execute_result"
    }
   ],
   "source": [
    "mod.fit(X_train, y_train)"
   ]
  },
  {
   "cell_type": "code",
   "execution_count": 18,
   "id": "0c9b821e",
   "metadata": {},
   "outputs": [
    {
     "data": {
      "text/plain": [
       "0.8493333333333334"
      ]
     },
     "execution_count": 18,
     "metadata": {},
     "output_type": "execute_result"
    }
   ],
   "source": [
    "y_hat = mod.predict(X_train).argmax(1)\n",
    "(y_hat==y_train).mean()"
   ]
  },
  {
   "cell_type": "code",
   "execution_count": 20,
   "id": "0a5a5183",
   "metadata": {},
   "outputs": [
    {
     "data": {
      "text/plain": [
       "0.848"
      ]
     },
     "execution_count": 20,
     "metadata": {},
     "output_type": "execute_result"
    }
   ],
   "source": [
    "y_hat = mod.predict(X_test).argmax(1)\n",
    "(y_hat==y_test).mean()"
   ]
  },
  {
   "cell_type": "markdown",
   "id": "bd52d24a",
   "metadata": {},
   "source": [
    "---"
   ]
  },
  {
   "cell_type": "code",
   "execution_count": null,
   "id": "aa222683",
   "metadata": {},
   "outputs": [],
   "source": []
  },
  {
   "cell_type": "code",
   "execution_count": null,
   "id": "3dc4c723",
   "metadata": {},
   "outputs": [],
   "source": []
  },
  {
   "cell_type": "code",
   "execution_count": null,
   "id": "7bc66b68",
   "metadata": {},
   "outputs": [],
   "source": []
  },
  {
   "cell_type": "code",
   "execution_count": null,
   "id": "3750dffe",
   "metadata": {},
   "outputs": [],
   "source": []
  },
  {
   "cell_type": "code",
   "execution_count": null,
   "id": "5b5fe84d",
   "metadata": {},
   "outputs": [],
   "source": []
  },
  {
   "cell_type": "code",
   "execution_count": null,
   "id": "316cf560",
   "metadata": {},
   "outputs": [],
   "source": []
  }
 ],
 "metadata": {
  "kernelspec": {
   "display_name": "mnzr",
   "language": "python",
   "name": "mnzr"
  },
  "language_info": {
   "codemirror_mode": {
    "name": "ipython",
    "version": 3
   },
   "file_extension": ".py",
   "mimetype": "text/x-python",
   "name": "python",
   "nbconvert_exporter": "python",
   "pygments_lexer": "ipython3",
   "version": "3.10.4"
  }
 },
 "nbformat": 4,
 "nbformat_minor": 5
}
