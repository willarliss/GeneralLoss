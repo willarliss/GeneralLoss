{
 "cells": [
  {
   "cell_type": "code",
   "execution_count": 1,
   "id": "f1ed32a8",
   "metadata": {},
   "outputs": [],
   "source": [
    "import numpy as np\n",
    "from sklearn.pipeline import Pipeline\n",
    "from sklearn.preprocessing import StandardScaler\n",
    "from sklearn.model_selection import train_test_split\n",
    "from sklearn.datasets import make_classification, make_regression\n",
    "\n",
    "from minimizers.minimize import GeneralLossMinimizer, CustomLossClassifier, CustomLossRegressor\n"
   ]
  },
  {
   "cell_type": "code",
   "execution_count": 2,
   "id": "ad5fed30",
   "metadata": {},
   "outputs": [],
   "source": [
    "seed = 0"
   ]
  },
  {
   "cell_type": "markdown",
   "id": "5ea4f32f",
   "metadata": {},
   "source": [
    "---\n",
    "### Standard classification with  `GeneralLossMinimizer`"
   ]
  },
  {
   "cell_type": "code",
   "execution_count": 3,
   "id": "de34f746",
   "metadata": {},
   "outputs": [],
   "source": [
    "X, y = make_classification(\n",
    "    n_classes=2, \n",
    "    n_samples=1000, \n",
    "    n_features=10, \n",
    "    flip_y=0., \n",
    "    n_clusters_per_class=1, \n",
    "    random_state=seed,\n",
    ")\n",
    "X_train, X_test, y_train, y_test = train_test_split(X, y, random_state=seed)\n",
    "del X, y"
   ]
  },
  {
   "cell_type": "code",
   "execution_count": 4,
   "id": "79db58b6",
   "metadata": {},
   "outputs": [
    {
     "data": {
      "text/plain": [
       "GeneralLossMinimizer(random_state=0)"
      ]
     },
     "execution_count": 4,
     "metadata": {},
     "output_type": "execute_result"
    }
   ],
   "source": [
    "mod = Pipeline([\n",
    "    ('sc', StandardScaler()),\n",
    "    ('clf', GeneralLossMinimizer(random_state=seed)),\n",
    "])\n",
    "mod[-1].set_estimator_type('classifier')\n",
    "mod[-1].set_multi_output(False)"
   ]
  },
  {
   "cell_type": "code",
   "execution_count": 5,
   "id": "99343884",
   "metadata": {},
   "outputs": [
    {
     "data": {
      "text/plain": [
       "Pipeline(steps=[('sc', StandardScaler()),\n",
       "                ('clf', GeneralLossMinimizer(random_state=0))])"
      ]
     },
     "execution_count": 5,
     "metadata": {},
     "output_type": "execute_result"
    }
   ],
   "source": [
    "mod.fit(X_train, y_train)"
   ]
  },
  {
   "cell_type": "code",
   "execution_count": 6,
   "id": "4b0880ad",
   "metadata": {},
   "outputs": [
    {
     "data": {
      "text/plain": [
       "0.9226666666666666"
      ]
     },
     "execution_count": 6,
     "metadata": {},
     "output_type": "execute_result"
    }
   ],
   "source": [
    "y_hat = mod.predict(X_train).round()\n",
    "(y_hat==y_train).mean()"
   ]
  },
  {
   "cell_type": "code",
   "execution_count": 7,
   "id": "1caf30ea",
   "metadata": {},
   "outputs": [
    {
     "data": {
      "text/plain": [
       "0.92"
      ]
     },
     "execution_count": 7,
     "metadata": {},
     "output_type": "execute_result"
    }
   ],
   "source": [
    "y_hat = mod.predict(X_test).round()\n",
    "(y_hat==y_test).mean()"
   ]
  },
  {
   "cell_type": "markdown",
   "id": "a1747c68",
   "metadata": {},
   "source": [
    "---\n",
    "### Standard regression with  `GeneralLossMinimizer`"
   ]
  },
  {
   "cell_type": "code",
   "execution_count": 8,
   "id": "a8d911b8",
   "metadata": {},
   "outputs": [],
   "source": [
    "X, y = make_regression(\n",
    "    n_targets=1, \n",
    "    n_samples=1000, \n",
    "    n_features=10, \n",
    "    random_state=seed,\n",
    ")\n",
    "X_train, X_test, y_train, y_test = train_test_split(X, y, random_state=seed)\n",
    "del X, y"
   ]
  },
  {
   "cell_type": "code",
   "execution_count": 9,
   "id": "81d5ae2d",
   "metadata": {},
   "outputs": [
    {
     "data": {
      "text/plain": [
       "GeneralLossMinimizer(random_state=0)"
      ]
     },
     "execution_count": 9,
     "metadata": {},
     "output_type": "execute_result"
    }
   ],
   "source": [
    "mod = Pipeline([\n",
    "    ('sc', StandardScaler()),\n",
    "    ('clf', GeneralLossMinimizer(random_state=seed)),\n",
    "])\n",
    "mod[-1].set_estimator_type('regressor')\n",
    "mod[-1].set_multi_output(False)"
   ]
  },
  {
   "cell_type": "code",
   "execution_count": 10,
   "id": "747fd38e",
   "metadata": {},
   "outputs": [
    {
     "data": {
      "text/plain": [
       "Pipeline(steps=[('sc', StandardScaler()),\n",
       "                ('clf', GeneralLossMinimizer(random_state=0))])"
      ]
     },
     "execution_count": 10,
     "metadata": {},
     "output_type": "execute_result"
    }
   ],
   "source": [
    "mod.fit(X_train, y_train)"
   ]
  },
  {
   "cell_type": "code",
   "execution_count": 11,
   "id": "bce12954",
   "metadata": {},
   "outputs": [
    {
     "data": {
      "text/plain": [
       "0.29203808573391965"
      ]
     },
     "execution_count": 11,
     "metadata": {},
     "output_type": "execute_result"
    }
   ],
   "source": [
    "y_hat = mod.predict(X_train).round()\n",
    "((y_train-y_hat)**2).mean()**0.5"
   ]
  },
  {
   "cell_type": "code",
   "execution_count": 12,
   "id": "28a0c5e3",
   "metadata": {},
   "outputs": [
    {
     "data": {
      "text/plain": [
       "0.2839428616952984"
      ]
     },
     "execution_count": 12,
     "metadata": {},
     "output_type": "execute_result"
    }
   ],
   "source": [
    "y_hat = mod.predict(X_test).round()\n",
    "((y_test-y_hat)**2).mean()**0.5"
   ]
  },
  {
   "cell_type": "markdown",
   "id": "dbd88d6f",
   "metadata": {},
   "source": [
    "---\n",
    "### Binary classification with `CustomLossClassifier` "
   ]
  },
  {
   "cell_type": "code",
   "execution_count": 13,
   "id": "d2467f68",
   "metadata": {},
   "outputs": [],
   "source": [
    "X, y = make_classification(\n",
    "    n_classes=2, \n",
    "    n_samples=1000, \n",
    "    n_features=10, \n",
    "    flip_y=0., \n",
    "    n_clusters_per_class=1, \n",
    "    random_state=seed,\n",
    ")\n",
    "X_train, X_test, y_train, y_test = train_test_split(X, y, random_state=seed)\n",
    "del X, y"
   ]
  },
  {
   "cell_type": "code",
   "execution_count": 14,
   "id": "ae7f85f7",
   "metadata": {},
   "outputs": [],
   "source": [
    "mod = Pipeline([\n",
    "    ('sc', StandardScaler()),\n",
    "    ('clf', CustomLossClassifier(random_state=seed)),\n",
    "])"
   ]
  },
  {
   "cell_type": "code",
   "execution_count": 15,
   "id": "a9cc1d19",
   "metadata": {},
   "outputs": [
    {
     "data": {
      "text/plain": [
       "Pipeline(steps=[('sc', StandardScaler()),\n",
       "                ('clf', CustomLossClassifier(random_state=0))])"
      ]
     },
     "execution_count": 15,
     "metadata": {},
     "output_type": "execute_result"
    }
   ],
   "source": [
    "mod.fit(X_train, y_train)"
   ]
  },
  {
   "cell_type": "code",
   "execution_count": 16,
   "id": "f9fa2ac4",
   "metadata": {},
   "outputs": [],
   "source": [
    "y_hat = mod.predict(X_train)"
   ]
  },
  {
   "cell_type": "code",
   "execution_count": 17,
   "id": "e8c6c8d8",
   "metadata": {},
   "outputs": [
    {
     "data": {
      "text/plain": [
       "0.9226666666666666"
      ]
     },
     "execution_count": 17,
     "metadata": {},
     "output_type": "execute_result"
    }
   ],
   "source": [
    "y_hat = mod.predict(X_train).argmax(1)\n",
    "(y_hat==y_train).mean()"
   ]
  },
  {
   "cell_type": "code",
   "execution_count": 18,
   "id": "13430e27",
   "metadata": {},
   "outputs": [
    {
     "data": {
      "text/plain": [
       "0.92"
      ]
     },
     "execution_count": 18,
     "metadata": {},
     "output_type": "execute_result"
    }
   ],
   "source": [
    "y_hat = mod.predict(X_test).argmax(1)\n",
    "(y_hat==y_test).mean()"
   ]
  },
  {
   "cell_type": "markdown",
   "id": "7af8d1e1",
   "metadata": {},
   "source": [
    "---\n",
    "### Multi-categorical classification with `CustomLossClassifier`"
   ]
  },
  {
   "cell_type": "code",
   "execution_count": 19,
   "id": "c6b2c037",
   "metadata": {},
   "outputs": [],
   "source": [
    "X, y = make_classification(\n",
    "    n_classes=3, \n",
    "    n_samples=1000, \n",
    "    n_features=10, \n",
    "    flip_y=0., \n",
    "    n_clusters_per_class=1, \n",
    "    random_state=seed,\n",
    ")\n",
    "X_train, X_test, y_train, y_test = train_test_split(X, y, random_state=seed)\n",
    "del X, y"
   ]
  },
  {
   "cell_type": "code",
   "execution_count": 20,
   "id": "f1859908",
   "metadata": {},
   "outputs": [],
   "source": [
    "mod = Pipeline([\n",
    "    ('sc', StandardScaler()),\n",
    "    ('clf', CustomLossClassifier(random_state=seed)),\n",
    "])"
   ]
  },
  {
   "cell_type": "code",
   "execution_count": 21,
   "id": "4e42a4ad",
   "metadata": {},
   "outputs": [
    {
     "data": {
      "text/plain": [
       "Pipeline(steps=[('sc', StandardScaler()),\n",
       "                ('clf', CustomLossClassifier(random_state=0))])"
      ]
     },
     "execution_count": 21,
     "metadata": {},
     "output_type": "execute_result"
    }
   ],
   "source": [
    "mod.fit(X_train, y_train)"
   ]
  },
  {
   "cell_type": "code",
   "execution_count": 22,
   "id": "ca1e3a6d",
   "metadata": {},
   "outputs": [
    {
     "data": {
      "text/plain": [
       "0.86"
      ]
     },
     "execution_count": 22,
     "metadata": {},
     "output_type": "execute_result"
    }
   ],
   "source": [
    "y_hat = mod.predict(X_train).argmax(1)\n",
    "(y_hat==y_train).mean()"
   ]
  },
  {
   "cell_type": "code",
   "execution_count": 23,
   "id": "3cf54007",
   "metadata": {},
   "outputs": [
    {
     "data": {
      "text/plain": [
       "0.872"
      ]
     },
     "execution_count": 23,
     "metadata": {},
     "output_type": "execute_result"
    }
   ],
   "source": [
    "y_hat = mod.predict(X_test).argmax(1)\n",
    "(y_hat==y_test).mean()"
   ]
  },
  {
   "cell_type": "markdown",
   "id": "655d8ce5",
   "metadata": {},
   "source": [
    "---\n",
    "### Single output `CustomLossRegressor`"
   ]
  },
  {
   "cell_type": "code",
   "execution_count": 24,
   "id": "5eb51d76",
   "metadata": {},
   "outputs": [],
   "source": [
    "X, y = make_regression(\n",
    "    n_targets=1, \n",
    "    n_samples=1000, \n",
    "    n_features=10, \n",
    "    random_state=seed,\n",
    ")\n",
    "X_train, X_test, y_train, y_test = train_test_split(X, y, random_state=seed)\n",
    "del X, y"
   ]
  },
  {
   "cell_type": "code",
   "execution_count": 25,
   "id": "88873d59",
   "metadata": {},
   "outputs": [],
   "source": [
    "mod = Pipeline([\n",
    "    ('sc', StandardScaler()),\n",
    "    ('clf', CustomLossRegressor(random_state=seed)),\n",
    "])"
   ]
  },
  {
   "cell_type": "code",
   "execution_count": 26,
   "id": "052c9a10",
   "metadata": {},
   "outputs": [
    {
     "data": {
      "text/plain": [
       "Pipeline(steps=[('sc', StandardScaler()),\n",
       "                ('clf', CustomLossRegressor(random_state=0))])"
      ]
     },
     "execution_count": 26,
     "metadata": {},
     "output_type": "execute_result"
    }
   ],
   "source": [
    "mod.fit(X_train, y_train)"
   ]
  },
  {
   "cell_type": "code",
   "execution_count": 27,
   "id": "96d7c5b8",
   "metadata": {},
   "outputs": [
    {
     "data": {
      "text/plain": [
       "4.9928711244253936e-05"
      ]
     },
     "execution_count": 27,
     "metadata": {},
     "output_type": "execute_result"
    }
   ],
   "source": [
    "y_hat = mod.predict(X_train).squeeze()\n",
    "((y_train-y_hat)**2).mean()**0.5"
   ]
  },
  {
   "cell_type": "code",
   "execution_count": 28,
   "id": "b5100404",
   "metadata": {},
   "outputs": [
    {
     "data": {
      "text/plain": [
       "5.395171147134042e-05"
      ]
     },
     "execution_count": 28,
     "metadata": {},
     "output_type": "execute_result"
    }
   ],
   "source": [
    "y_hat = mod.predict(X_test).squeeze()\n",
    "((y_test-y_hat)**2).mean()**0.5"
   ]
  },
  {
   "cell_type": "markdown",
   "id": "97230a9d",
   "metadata": {},
   "source": [
    "---\n",
    "### Multi-output regression with `CustomLossRegressor`"
   ]
  },
  {
   "cell_type": "code",
   "execution_count": 29,
   "id": "46e64b58",
   "metadata": {},
   "outputs": [],
   "source": [
    "X, y = make_regression(\n",
    "    n_targets=2, \n",
    "    n_samples=1000, \n",
    "    n_features=10, \n",
    "    random_state=seed,\n",
    ")\n",
    "X_train, X_test, y_train, y_test = train_test_split(X, y, random_state=seed)\n",
    "del X, y"
   ]
  },
  {
   "cell_type": "code",
   "execution_count": 30,
   "id": "af4e8782",
   "metadata": {},
   "outputs": [],
   "source": [
    "mod = Pipeline([\n",
    "    ('sc', StandardScaler()),\n",
    "    ('clf', CustomLossRegressor(random_state=seed)),\n",
    "])"
   ]
  },
  {
   "cell_type": "code",
   "execution_count": 31,
   "id": "cc91aa22",
   "metadata": {},
   "outputs": [
    {
     "data": {
      "text/plain": [
       "Pipeline(steps=[('sc', StandardScaler()),\n",
       "                ('clf', CustomLossRegressor(random_state=0))])"
      ]
     },
     "execution_count": 31,
     "metadata": {},
     "output_type": "execute_result"
    }
   ],
   "source": [
    "mod.fit(X_train, y_train)"
   ]
  },
  {
   "cell_type": "code",
   "execution_count": 32,
   "id": "0fa9c2b1",
   "metadata": {},
   "outputs": [
    {
     "data": {
      "text/plain": [
       "3.3306480815632496e-05"
      ]
     },
     "execution_count": 32,
     "metadata": {},
     "output_type": "execute_result"
    }
   ],
   "source": [
    "y_hat = mod.predict(X_train)\n",
    "((y_train-y_hat)**2).mean(1).mean()**0.5"
   ]
  },
  {
   "cell_type": "code",
   "execution_count": 33,
   "id": "231f7a4b",
   "metadata": {},
   "outputs": [
    {
     "data": {
      "text/plain": [
       "3.4671141657123606e-05"
      ]
     },
     "execution_count": 33,
     "metadata": {},
     "output_type": "execute_result"
    }
   ],
   "source": [
    "y_hat = mod.predict(X_test)\n",
    "((y_test-y_hat)**2).mean(1).mean()**0.5"
   ]
  },
  {
   "cell_type": "markdown",
   "id": "679d8558",
   "metadata": {},
   "source": [
    "---\n",
    "### Squared hinge loss with  `GeneralLossMinimizer`"
   ]
  },
  {
   "cell_type": "code",
   "execution_count": 34,
   "id": "174da36d",
   "metadata": {},
   "outputs": [],
   "source": [
    "def squared_hinge_loss(y, y_hat):\n",
    "\n",
    "    zeros = np.zeros_like(y)\n",
    "    margin = 1 - (y*y_hat)\n",
    "\n",
    "    return np.c_[zeros, margin].max(1) ** 2\n",
    "\n",
    "def linear_link(X, b):\n",
    "    \n",
    "    return X.dot(b)\n"
   ]
  },
  {
   "cell_type": "code",
   "execution_count": 35,
   "id": "92739134",
   "metadata": {},
   "outputs": [],
   "source": [
    "X, y = make_classification(\n",
    "    n_classes=2, \n",
    "    n_samples=1000, \n",
    "    n_features=10, \n",
    "    flip_y=0., \n",
    "    n_clusters_per_class=1, \n",
    "    random_state=seed,\n",
    ")\n",
    "y = np.where(y==1, 1, -1)\n",
    "X_train, X_test, y_train, y_test = train_test_split(X, y, random_state=seed)\n",
    "del X, y"
   ]
  },
  {
   "cell_type": "code",
   "execution_count": 36,
   "id": "7a3a000e",
   "metadata": {},
   "outputs": [],
   "source": [
    "mod = Pipeline([\n",
    "    ('sc', StandardScaler(\n",
    "    )),\n",
    "    ('clf', GeneralLossMinimizer(\n",
    "        random_state=seed, \n",
    "        loss_fn=squared_hinge_loss, \n",
    "        link_fn=linear_link,\n",
    "    )),\n",
    "])"
   ]
  },
  {
   "cell_type": "code",
   "execution_count": 37,
   "id": "20325dbf",
   "metadata": {},
   "outputs": [
    {
     "data": {
      "text/plain": [
       "Pipeline(steps=[('sc', StandardScaler()),\n",
       "                ('clf',\n",
       "                 GeneralLossMinimizer(link_fn=<function linear_link at 0x12798d1b0>,\n",
       "                                      loss_fn=<function squared_hinge_loss at 0x12798d3f0>,\n",
       "                                      random_state=0))])"
      ]
     },
     "execution_count": 37,
     "metadata": {},
     "output_type": "execute_result"
    }
   ],
   "source": [
    "mod.fit(X_train, y_train)"
   ]
  },
  {
   "cell_type": "code",
   "execution_count": 38,
   "id": "4168f2a2",
   "metadata": {},
   "outputs": [
    {
     "data": {
      "text/plain": [
       "0.9226666666666666"
      ]
     },
     "execution_count": 38,
     "metadata": {},
     "output_type": "execute_result"
    }
   ],
   "source": [
    "y_hat = mod.predict(X_train)\n",
    "y_hat = np.where(y_hat>0, 1, -1)\n",
    "(y_hat==y_train).mean()"
   ]
  },
  {
   "cell_type": "code",
   "execution_count": 39,
   "id": "acab7818",
   "metadata": {},
   "outputs": [
    {
     "data": {
      "text/plain": [
       "0.928"
      ]
     },
     "execution_count": 39,
     "metadata": {},
     "output_type": "execute_result"
    }
   ],
   "source": [
    "y_hat = mod.predict(X_test)\n",
    "y_hat = np.where(y_hat>0, 1, -1)\n",
    "(y_hat==y_test).mean()"
   ]
  },
  {
   "cell_type": "markdown",
   "id": "dfee677a",
   "metadata": {},
   "source": [
    "---"
   ]
  },
  {
   "cell_type": "code",
   "execution_count": null,
   "id": "cbd5115d",
   "metadata": {},
   "outputs": [],
   "source": []
  },
  {
   "cell_type": "code",
   "execution_count": null,
   "id": "8cdb5ac6",
   "metadata": {},
   "outputs": [],
   "source": []
  },
  {
   "cell_type": "code",
   "execution_count": null,
   "id": "4fd6f77f",
   "metadata": {},
   "outputs": [],
   "source": []
  }
 ],
 "metadata": {
  "kernelspec": {
   "display_name": "mnzr",
   "language": "python",
   "name": "mnzr"
  },
  "language_info": {
   "codemirror_mode": {
    "name": "ipython",
    "version": 3
   },
   "file_extension": ".py",
   "mimetype": "text/x-python",
   "name": "python",
   "nbconvert_exporter": "python",
   "pygments_lexer": "ipython3",
   "version": "3.10.4"
  }
 },
 "nbformat": 4,
 "nbformat_minor": 5
}
