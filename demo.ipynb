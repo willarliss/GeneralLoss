{
 "cells": [
  {
   "cell_type": "code",
   "execution_count": 1,
   "id": "f1ed32a8",
   "metadata": {},
   "outputs": [],
   "source": [
    "from sklearn.pipeline import Pipeline\n",
    "from sklearn.preprocessing import StandardScaler\n",
    "from sklearn.model_selection import train_test_split\n",
    "from sklearn.datasets import make_classification, make_regression\n",
    "\n",
    "from minimizers.minimize import CustomLossMinimizer, CustomLossClassifier, CustomLossRegressor\n"
   ]
  },
  {
   "cell_type": "code",
   "execution_count": 2,
   "id": "ad5fed30",
   "metadata": {},
   "outputs": [],
   "source": [
    "seed = 0"
   ]
  },
  {
   "cell_type": "markdown",
   "id": "31d171f4",
   "metadata": {},
   "source": [
    "---\n",
    "### Standard classification with  `CustomLossMinimizer`"
   ]
  },
  {
   "cell_type": "code",
   "execution_count": 3,
   "id": "de34f746",
   "metadata": {},
   "outputs": [],
   "source": [
    "X, y = make_classification(\n",
    "    n_classes=2, \n",
    "    n_samples=1000, \n",
    "    n_features=10, \n",
    "    flip_y=0., \n",
    "    n_clusters_per_class=1, \n",
    "    random_state=seed,\n",
    ")\n",
    "X_train, X_test, y_train, y_test = train_test_split(X, y, random_state=seed)\n",
    "del X, y"
   ]
  },
  {
   "cell_type": "code",
   "execution_count": 4,
   "id": "79db58b6",
   "metadata": {},
   "outputs": [
    {
     "data": {
      "text/plain": [
       "CustomLossMinimizer(random_state=0)"
      ]
     },
     "execution_count": 4,
     "metadata": {},
     "output_type": "execute_result"
    }
   ],
   "source": [
    "mod = Pipeline([\n",
    "    ('sc', StandardScaler()),\n",
    "    ('clf', CustomLossMinimizer(random_state=seed)),\n",
    "])\n",
    "mod[-1].set_estimator_type('classifier')"
   ]
  },
  {
   "cell_type": "code",
   "execution_count": 5,
   "id": "99343884",
   "metadata": {},
   "outputs": [
    {
     "data": {
      "text/plain": [
       "Pipeline(steps=[('sc', StandardScaler()),\n",
       "                ('clf', CustomLossMinimizer(random_state=0))])"
      ]
     },
     "execution_count": 5,
     "metadata": {},
     "output_type": "execute_result"
    }
   ],
   "source": [
    "mod.fit(X_train, y_train)"
   ]
  },
  {
   "cell_type": "code",
   "execution_count": 6,
   "id": "4b0880ad",
   "metadata": {},
   "outputs": [
    {
     "data": {
      "text/plain": [
       "0.9226666666666666"
      ]
     },
     "execution_count": 6,
     "metadata": {},
     "output_type": "execute_result"
    }
   ],
   "source": [
    "y_hat = mod.predict(X_train).round()\n",
    "(y_hat==y_train).mean()"
   ]
  },
  {
   "cell_type": "code",
   "execution_count": 7,
   "id": "1caf30ea",
   "metadata": {},
   "outputs": [
    {
     "data": {
      "text/plain": [
       "0.92"
      ]
     },
     "execution_count": 7,
     "metadata": {},
     "output_type": "execute_result"
    }
   ],
   "source": [
    "y_hat = mod.predict(X_test).round()\n",
    "(y_hat==y_test).mean()"
   ]
  },
  {
   "cell_type": "markdown",
   "id": "ae7087f8",
   "metadata": {},
   "source": [
    "---\n",
    "### Standard regression with  `CustomLossMinimizer`"
   ]
  },
  {
   "cell_type": "code",
   "execution_count": 8,
   "id": "57890209",
   "metadata": {},
   "outputs": [],
   "source": [
    "X, y = make_regression(\n",
    "    n_targets=1, \n",
    "    n_samples=1000, \n",
    "    n_features=10, \n",
    "    random_state=seed,\n",
    ")\n",
    "X_train, X_test, y_train, y_test = train_test_split(X, y, random_state=seed)\n",
    "del X, y"
   ]
  },
  {
   "cell_type": "code",
   "execution_count": 9,
   "id": "cab2e282",
   "metadata": {},
   "outputs": [
    {
     "data": {
      "text/plain": [
       "CustomLossMinimizer(random_state=0)"
      ]
     },
     "execution_count": 9,
     "metadata": {},
     "output_type": "execute_result"
    }
   ],
   "source": [
    "mod = Pipeline([\n",
    "    ('sc', StandardScaler()),\n",
    "    ('clf', CustomLossMinimizer(random_state=seed)),\n",
    "])\n",
    "mod[-1].set_estimator_type('regressor')"
   ]
  },
  {
   "cell_type": "code",
   "execution_count": 10,
   "id": "757d0407",
   "metadata": {},
   "outputs": [
    {
     "data": {
      "text/plain": [
       "Pipeline(steps=[('sc', StandardScaler()),\n",
       "                ('clf', CustomLossMinimizer(random_state=0))])"
      ]
     },
     "execution_count": 10,
     "metadata": {},
     "output_type": "execute_result"
    }
   ],
   "source": [
    "mod.fit(X_train, y_train)"
   ]
  },
  {
   "cell_type": "code",
   "execution_count": 11,
   "id": "ce280b2b",
   "metadata": {},
   "outputs": [
    {
     "data": {
      "text/plain": [
       "0.29203808573391965"
      ]
     },
     "execution_count": 11,
     "metadata": {},
     "output_type": "execute_result"
    }
   ],
   "source": [
    "y_hat = mod.predict(X_train).round()\n",
    "((y_train-y_hat)**2).mean()**0.5"
   ]
  },
  {
   "cell_type": "code",
   "execution_count": 12,
   "id": "2bdfd19a",
   "metadata": {},
   "outputs": [
    {
     "data": {
      "text/plain": [
       "0.2839428616952984"
      ]
     },
     "execution_count": 12,
     "metadata": {},
     "output_type": "execute_result"
    }
   ],
   "source": [
    "y_hat = mod.predict(X_test).round()\n",
    "((y_test-y_hat)**2).mean()**0.5"
   ]
  },
  {
   "cell_type": "markdown",
   "id": "dbd88d6f",
   "metadata": {},
   "source": [
    "---\n",
    "### Binary classification with `CustomLossClassifier` "
   ]
  },
  {
   "cell_type": "code",
   "execution_count": 13,
   "id": "d2467f68",
   "metadata": {},
   "outputs": [],
   "source": [
    "X, y = make_classification(\n",
    "    n_classes=2, \n",
    "    n_samples=1000, \n",
    "    n_features=10, \n",
    "    flip_y=0., \n",
    "    n_clusters_per_class=1, \n",
    "    random_state=seed,\n",
    ")\n",
    "X_train, X_test, y_train, y_test = train_test_split(X, y, random_state=seed)\n",
    "del X, y"
   ]
  },
  {
   "cell_type": "code",
   "execution_count": 14,
   "id": "ae7f85f7",
   "metadata": {},
   "outputs": [],
   "source": [
    "mod = Pipeline([\n",
    "    ('sc', StandardScaler()),\n",
    "    ('clf', CustomLossClassifier(random_state=seed)),\n",
    "])"
   ]
  },
  {
   "cell_type": "code",
   "execution_count": 15,
   "id": "a9cc1d19",
   "metadata": {},
   "outputs": [
    {
     "data": {
      "text/plain": [
       "Pipeline(steps=[('sc', StandardScaler()),\n",
       "                ('clf', CustomLossClassifier(random_state=0))])"
      ]
     },
     "execution_count": 15,
     "metadata": {},
     "output_type": "execute_result"
    }
   ],
   "source": [
    "mod.fit(X_train, y_train)"
   ]
  },
  {
   "cell_type": "code",
   "execution_count": 16,
   "id": "0b4287f4",
   "metadata": {},
   "outputs": [],
   "source": [
    "y_hat = mod.predict(X_train)"
   ]
  },
  {
   "cell_type": "code",
   "execution_count": 17,
   "id": "e8c6c8d8",
   "metadata": {},
   "outputs": [
    {
     "data": {
      "text/plain": [
       "0.9226666666666666"
      ]
     },
     "execution_count": 17,
     "metadata": {},
     "output_type": "execute_result"
    }
   ],
   "source": [
    "y_hat = mod.predict(X_train).argmax(1)\n",
    "(y_hat==y_train).mean()"
   ]
  },
  {
   "cell_type": "code",
   "execution_count": 18,
   "id": "13430e27",
   "metadata": {},
   "outputs": [
    {
     "data": {
      "text/plain": [
       "0.92"
      ]
     },
     "execution_count": 18,
     "metadata": {},
     "output_type": "execute_result"
    }
   ],
   "source": [
    "y_hat = mod.predict(X_test).argmax(1)\n",
    "(y_hat==y_test).mean()"
   ]
  },
  {
   "cell_type": "markdown",
   "id": "3ff3c51d",
   "metadata": {},
   "source": [
    "---\n",
    "### Multi-categorical classification with `CustomLossClassifier`"
   ]
  },
  {
   "cell_type": "code",
   "execution_count": 19,
   "id": "1077f967",
   "metadata": {},
   "outputs": [],
   "source": [
    "X, y = make_classification(\n",
    "    n_classes=3, \n",
    "    n_samples=1000, \n",
    "    n_features=10, \n",
    "    flip_y=0., \n",
    "    n_clusters_per_class=1, \n",
    "    random_state=seed,\n",
    ")\n",
    "X_train, X_test, y_train, y_test = train_test_split(X, y, random_state=seed)\n",
    "del X, y"
   ]
  },
  {
   "cell_type": "code",
   "execution_count": 20,
   "id": "02e14b2c",
   "metadata": {},
   "outputs": [],
   "source": [
    "mod = Pipeline([\n",
    "    ('sc', StandardScaler()),\n",
    "    ('clf', CustomLossClassifier(random_state=seed)),\n",
    "])"
   ]
  },
  {
   "cell_type": "code",
   "execution_count": 21,
   "id": "20d27bd6",
   "metadata": {},
   "outputs": [
    {
     "data": {
      "text/plain": [
       "Pipeline(steps=[('sc', StandardScaler()),\n",
       "                ('clf', CustomLossClassifier(random_state=0))])"
      ]
     },
     "execution_count": 21,
     "metadata": {},
     "output_type": "execute_result"
    }
   ],
   "source": [
    "mod.fit(X_train, y_train)"
   ]
  },
  {
   "cell_type": "code",
   "execution_count": 22,
   "id": "dc2bd73b",
   "metadata": {},
   "outputs": [
    {
     "data": {
      "text/plain": [
       "0.86"
      ]
     },
     "execution_count": 22,
     "metadata": {},
     "output_type": "execute_result"
    }
   ],
   "source": [
    "y_hat = mod.predict(X_train).argmax(1)\n",
    "(y_hat==y_train).mean()"
   ]
  },
  {
   "cell_type": "code",
   "execution_count": 23,
   "id": "f8b18cca",
   "metadata": {},
   "outputs": [
    {
     "data": {
      "text/plain": [
       "0.872"
      ]
     },
     "execution_count": 23,
     "metadata": {},
     "output_type": "execute_result"
    }
   ],
   "source": [
    "y_hat = mod.predict(X_test).argmax(1)\n",
    "(y_hat==y_test).mean()"
   ]
  },
  {
   "cell_type": "markdown",
   "id": "c99a40da",
   "metadata": {},
   "source": [
    "---\n",
    "### Single output `CustomLossRegressor`"
   ]
  },
  {
   "cell_type": "code",
   "execution_count": 24,
   "id": "07300a24",
   "metadata": {},
   "outputs": [],
   "source": [
    "X, y = make_regression(\n",
    "    n_targets=1, \n",
    "    n_samples=1000, \n",
    "    n_features=10, \n",
    "    random_state=seed,\n",
    ")\n",
    "X_train, X_test, y_train, y_test = train_test_split(X, y, random_state=seed)\n",
    "del X, y"
   ]
  },
  {
   "cell_type": "code",
   "execution_count": 25,
   "id": "a39371ef",
   "metadata": {},
   "outputs": [],
   "source": [
    "mod = Pipeline([\n",
    "    ('sc', StandardScaler()),\n",
    "    ('clf', CustomLossRegressor(random_state=seed)),\n",
    "])"
   ]
  },
  {
   "cell_type": "code",
   "execution_count": 26,
   "id": "c767bdc1",
   "metadata": {},
   "outputs": [
    {
     "data": {
      "text/plain": [
       "Pipeline(steps=[('sc', StandardScaler()),\n",
       "                ('clf', CustomLossRegressor(random_state=0))])"
      ]
     },
     "execution_count": 26,
     "metadata": {},
     "output_type": "execute_result"
    }
   ],
   "source": [
    "mod.fit(X_train, y_train)"
   ]
  },
  {
   "cell_type": "code",
   "execution_count": 27,
   "id": "47651114",
   "metadata": {},
   "outputs": [
    {
     "data": {
      "text/plain": [
       "4.9928711244253936e-05"
      ]
     },
     "execution_count": 27,
     "metadata": {},
     "output_type": "execute_result"
    }
   ],
   "source": [
    "y_hat = mod.predict(X_train).squeeze()\n",
    "((y_train-y_hat)**2).mean()**0.5"
   ]
  },
  {
   "cell_type": "code",
   "execution_count": 28,
   "id": "35bf93bf",
   "metadata": {},
   "outputs": [
    {
     "data": {
      "text/plain": [
       "5.395171147134042e-05"
      ]
     },
     "execution_count": 28,
     "metadata": {},
     "output_type": "execute_result"
    }
   ],
   "source": [
    "y_hat = mod.predict(X_test).squeeze()\n",
    "((y_test-y_hat)**2).mean()**0.5"
   ]
  },
  {
   "cell_type": "markdown",
   "id": "0d4a9e8a",
   "metadata": {},
   "source": [
    "---\n",
    "### Multi-output regression with `CustomLossRegressor`"
   ]
  },
  {
   "cell_type": "code",
   "execution_count": 29,
   "id": "391189df",
   "metadata": {},
   "outputs": [],
   "source": [
    "X, y = make_regression(\n",
    "    n_targets=2, \n",
    "    n_samples=1000, \n",
    "    n_features=10, \n",
    "    random_state=seed,\n",
    ")\n",
    "X_train, X_test, y_train, y_test = train_test_split(X, y, random_state=seed)\n",
    "del X, y"
   ]
  },
  {
   "cell_type": "code",
   "execution_count": 30,
   "id": "2167a3ec",
   "metadata": {},
   "outputs": [],
   "source": [
    "mod = Pipeline([\n",
    "    ('sc', StandardScaler()),\n",
    "    ('clf', CustomLossRegressor(random_state=seed)),\n",
    "])"
   ]
  },
  {
   "cell_type": "code",
   "execution_count": 31,
   "id": "c3945e5a",
   "metadata": {},
   "outputs": [
    {
     "data": {
      "text/plain": [
       "Pipeline(steps=[('sc', StandardScaler()),\n",
       "                ('clf', CustomLossRegressor(random_state=0))])"
      ]
     },
     "execution_count": 31,
     "metadata": {},
     "output_type": "execute_result"
    }
   ],
   "source": [
    "mod.fit(X_train, y_train)"
   ]
  },
  {
   "cell_type": "code",
   "execution_count": 32,
   "id": "c8c68c6b",
   "metadata": {},
   "outputs": [
    {
     "data": {
      "text/plain": [
       "3.3306480815632496e-05"
      ]
     },
     "execution_count": 32,
     "metadata": {},
     "output_type": "execute_result"
    }
   ],
   "source": [
    "y_hat = mod.predict(X_train)\n",
    "((y_train-y_hat)**2).mean(1).mean()**0.5"
   ]
  },
  {
   "cell_type": "code",
   "execution_count": 33,
   "id": "83b61d79",
   "metadata": {},
   "outputs": [
    {
     "data": {
      "text/plain": [
       "3.4671141657123606e-05"
      ]
     },
     "execution_count": 33,
     "metadata": {},
     "output_type": "execute_result"
    }
   ],
   "source": [
    "y_hat = mod.predict(X_test)\n",
    "((y_test-y_hat)**2).mean(1).mean()**0.5"
   ]
  },
  {
   "cell_type": "markdown",
   "id": "c0d8a8c4",
   "metadata": {},
   "source": [
    "---"
   ]
  },
  {
   "cell_type": "code",
   "execution_count": null,
   "id": "efef227b",
   "metadata": {},
   "outputs": [],
   "source": []
  },
  {
   "cell_type": "code",
   "execution_count": null,
   "id": "08ebec6e",
   "metadata": {},
   "outputs": [],
   "source": []
  },
  {
   "cell_type": "code",
   "execution_count": null,
   "id": "2587ce19",
   "metadata": {},
   "outputs": [],
   "source": []
  }
 ],
 "metadata": {
  "kernelspec": {
   "display_name": "mnzr",
   "language": "python",
   "name": "mnzr"
  },
  "language_info": {
   "codemirror_mode": {
    "name": "ipython",
    "version": 3
   },
   "file_extension": ".py",
   "mimetype": "text/x-python",
   "name": "python",
   "nbconvert_exporter": "python",
   "pygments_lexer": "ipython3",
   "version": "3.10.4"
  }
 },
 "nbformat": 4,
 "nbformat_minor": 5
}
